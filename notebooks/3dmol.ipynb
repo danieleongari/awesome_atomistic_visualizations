{
 "cells": [
  {
   "cell_type": "markdown",
   "metadata": {},
   "source": [
    "# 3Dmol\n",
    "\n",
    "- GitHub Py3Dmol: https://github.com/3dmol/3Dmol.js/tree/master/py3Dmol\n",
    "- Tutorial: https://william-dawson.github.io/using-py3dmol.html\n",
    "- Colab: https://colab.research.google.com/drive/1T2zR59TXyWRcNxRgOAiqVPJWhep83NV_?usp=sharing\n",
    "- 3Dmol in action: http://3dmol.csb.pitt.edu/viewer.html?url=http://3dmol.csb.pitt.edu/tests/test_structs/benzene.sdf&style=stick;sphere:radius~0.5\n",
    "\n",
    "```sh\n",
    "pip install py3dmol\n",
    "```"
   ]
  },
  {
   "cell_type": "code",
   "execution_count": 1,
   "metadata": {},
   "outputs": [],
   "source": [
    "import py3Dmol"
   ]
  },
  {
   "cell_type": "code",
   "execution_count": 2,
   "metadata": {},
   "outputs": [
    {
     "data": {
      "application/3dmoljs_load.v0": "<div id=\"3dmolviewer_1696071673271152\"  style=\"position: relative; width: 800px; height: 400px;\">\n        <p id=\"3dmolwarning_1696071673271152\" style=\"background-color:#ffcccc;color:black\">You appear to be running in JupyterLab (or JavaScript failed to load for some other reason).  You need to install the 3dmol extension: <br>\n        <tt>jupyter labextension install jupyterlab_3dmol</tt></p>\n        </div>\n<script>\n\nvar loadScriptAsync = function(uri){\n  return new Promise((resolve, reject) => {\n    //this is to ignore the existence of requirejs amd\n    var savedexports, savedmodule;\n    if (typeof exports !== 'undefined') savedexports = exports;\n    else exports = {}\n    if (typeof module !== 'undefined') savedmodule = module;\n    else module = {}\n\n    var tag = document.createElement('script');\n    tag.src = uri;\n    tag.async = true;\n    tag.onload = () => {\n        exports = savedexports;\n        module = savedmodule;\n        resolve();\n    };\n  var firstScriptTag = document.getElementsByTagName('script')[0];\n  firstScriptTag.parentNode.insertBefore(tag, firstScriptTag);\n});\n};\n\nif(typeof $3Dmolpromise === 'undefined') {\n$3Dmolpromise = null;\n  $3Dmolpromise = loadScriptAsync('https://cdnjs.cloudflare.com/ajax/libs/3Dmol/2.0.4/3Dmol-min.js');\n}\n\nvar viewer_1696071673271152 = null;\nvar warn = document.getElementById(\"3dmolwarning_1696071673271152\");\nif(warn) {\n    warn.parentNode.removeChild(warn);\n}\n$3Dmolpromise.then(function() {\nviewer_1696071673271152 = $3Dmol.createViewer(document.getElementById(\"3dmolviewer_1696071673271152\"),{backgroundColor:\"white\"});\nviewer_1696071673271152.zoomTo();\n\tviewer_1696071673271152.addModelsAsFrames(\"53\\nCELL: 30 30 30 90 90 90\\n C   21.546299   14.964001   14.882401\\n C   20.065500   15.100500   15.185400\\n H   21.752100   14.027700   14.350800\\n H   21.894598   15.784199   14.243999\\n C   19.213799   15.072901   13.925400\\n H   19.877100   16.039501   15.726900\\n H   19.757401   14.294100   15.864301\\n C   17.735399   15.349200   14.157300\\n H   19.331699   14.094900   13.432799\\n H   19.609800   15.813900   13.216500\\n C   17.061600   14.310901   15.040199\\n H   17.216101   15.389400   13.190700\\n H   17.624401   16.347900   14.604900\\n C   15.565201   14.417100   15.158999\\n H   17.491499   14.353500   16.052099\\n H   17.311800   13.307699   14.662200\\n C   14.844900   13.317900   15.626099\\n C   13.468800   13.381800   15.768001\\n C   12.741000   14.524500   15.411301\\n C   13.487999   15.636900   15.019800\\n C   14.875499   15.579901   14.872200\\n H   15.377099   16.483200   14.542200\\n C   11.236199   14.609700   15.503699\\n O   12.931800   16.843800   14.756100\\n H   15.368700   12.399900   15.893101\\n O   12.770399   12.330900   16.278601\\n H   13.387500   11.628301   16.498501\\n C   10.745099   15.888000   14.824200\\n C   11.586599   17.095798   15.216301\\n C   11.177400   18.343800   14.461500\\n H   11.069700   18.132299   13.392600\\n H   11.950199   19.108200   14.583900\\n H   10.234200   18.747000   14.841001\\n C   11.623199   17.369101   16.710901\\n H   12.062400   16.537201   17.268600\\n H   10.613100   17.546700   17.096100\\n H   12.225900   18.261299   16.907101\\n C    9.243000   16.003201   15.025799\\n H   10.926000   15.761100   13.741800\\n C    8.544600   14.871901   14.280900\\n H    8.859599   16.968300   14.675700\\n H    9.013200   15.939000   16.099501\\n C    9.270599   13.559999   14.368200\\n C   10.481999   13.443900   14.910601\\n H   10.968899   14.661000   16.576500\\n H    8.436600   15.135900   13.215900\\n H    7.516200   14.744400   14.649000\\n C    8.547299   12.392099   13.781400\\n H    8.289299   12.579300   12.730200\\n H    7.599000   12.209700   14.304600\\n H    9.144899   11.478001   13.828500\\n H   10.950300   12.465899   14.958300\\n H   22.154402   14.969399   15.791700\\n\");\n\tviewer_1696071673271152.setStyle({\"stick\": {\"colorscheme\": \"Jmol\"}, \"sphere\": {\"radius\": 0.5, \"colorscheme\": \"Jmol\"}});\n\tviewer_1696071673271152.zoomTo();\nviewer_1696071673271152.render();\n});\n</script>",
      "text/html": [
       "<div id=\"3dmolviewer_1696071673271152\"  style=\"position: relative; width: 800px; height: 400px;\">\n",
       "        <p id=\"3dmolwarning_1696071673271152\" style=\"background-color:#ffcccc;color:black\">You appear to be running in JupyterLab (or JavaScript failed to load for some other reason).  You need to install the 3dmol extension: <br>\n",
       "        <tt>jupyter labextension install jupyterlab_3dmol</tt></p>\n",
       "        </div>\n",
       "<script>\n",
       "\n",
       "var loadScriptAsync = function(uri){\n",
       "  return new Promise((resolve, reject) => {\n",
       "    //this is to ignore the existence of requirejs amd\n",
       "    var savedexports, savedmodule;\n",
       "    if (typeof exports !== 'undefined') savedexports = exports;\n",
       "    else exports = {}\n",
       "    if (typeof module !== 'undefined') savedmodule = module;\n",
       "    else module = {}\n",
       "\n",
       "    var tag = document.createElement('script');\n",
       "    tag.src = uri;\n",
       "    tag.async = true;\n",
       "    tag.onload = () => {\n",
       "        exports = savedexports;\n",
       "        module = savedmodule;\n",
       "        resolve();\n",
       "    };\n",
       "  var firstScriptTag = document.getElementsByTagName('script')[0];\n",
       "  firstScriptTag.parentNode.insertBefore(tag, firstScriptTag);\n",
       "});\n",
       "};\n",
       "\n",
       "if(typeof $3Dmolpromise === 'undefined') {\n",
       "$3Dmolpromise = null;\n",
       "  $3Dmolpromise = loadScriptAsync('https://cdnjs.cloudflare.com/ajax/libs/3Dmol/2.0.4/3Dmol-min.js');\n",
       "}\n",
       "\n",
       "var viewer_1696071673271152 = null;\n",
       "var warn = document.getElementById(\"3dmolwarning_1696071673271152\");\n",
       "if(warn) {\n",
       "    warn.parentNode.removeChild(warn);\n",
       "}\n",
       "$3Dmolpromise.then(function() {\n",
       "viewer_1696071673271152 = $3Dmol.createViewer(document.getElementById(\"3dmolviewer_1696071673271152\"),{backgroundColor:\"white\"});\n",
       "viewer_1696071673271152.zoomTo();\n",
       "\tviewer_1696071673271152.addModelsAsFrames(\"53\\nCELL: 30 30 30 90 90 90\\n C   21.546299   14.964001   14.882401\\n C   20.065500   15.100500   15.185400\\n H   21.752100   14.027700   14.350800\\n H   21.894598   15.784199   14.243999\\n C   19.213799   15.072901   13.925400\\n H   19.877100   16.039501   15.726900\\n H   19.757401   14.294100   15.864301\\n C   17.735399   15.349200   14.157300\\n H   19.331699   14.094900   13.432799\\n H   19.609800   15.813900   13.216500\\n C   17.061600   14.310901   15.040199\\n H   17.216101   15.389400   13.190700\\n H   17.624401   16.347900   14.604900\\n C   15.565201   14.417100   15.158999\\n H   17.491499   14.353500   16.052099\\n H   17.311800   13.307699   14.662200\\n C   14.844900   13.317900   15.626099\\n C   13.468800   13.381800   15.768001\\n C   12.741000   14.524500   15.411301\\n C   13.487999   15.636900   15.019800\\n C   14.875499   15.579901   14.872200\\n H   15.377099   16.483200   14.542200\\n C   11.236199   14.609700   15.503699\\n O   12.931800   16.843800   14.756100\\n H   15.368700   12.399900   15.893101\\n O   12.770399   12.330900   16.278601\\n H   13.387500   11.628301   16.498501\\n C   10.745099   15.888000   14.824200\\n C   11.586599   17.095798   15.216301\\n C   11.177400   18.343800   14.461500\\n H   11.069700   18.132299   13.392600\\n H   11.950199   19.108200   14.583900\\n H   10.234200   18.747000   14.841001\\n C   11.623199   17.369101   16.710901\\n H   12.062400   16.537201   17.268600\\n H   10.613100   17.546700   17.096100\\n H   12.225900   18.261299   16.907101\\n C    9.243000   16.003201   15.025799\\n H   10.926000   15.761100   13.741800\\n C    8.544600   14.871901   14.280900\\n H    8.859599   16.968300   14.675700\\n H    9.013200   15.939000   16.099501\\n C    9.270599   13.559999   14.368200\\n C   10.481999   13.443900   14.910601\\n H   10.968899   14.661000   16.576500\\n H    8.436600   15.135900   13.215900\\n H    7.516200   14.744400   14.649000\\n C    8.547299   12.392099   13.781400\\n H    8.289299   12.579300   12.730200\\n H    7.599000   12.209700   14.304600\\n H    9.144899   11.478001   13.828500\\n H   10.950300   12.465899   14.958300\\n H   22.154402   14.969399   15.791700\\n\");\n",
       "\tviewer_1696071673271152.setStyle({\"stick\": {\"colorscheme\": \"Jmol\"}, \"sphere\": {\"radius\": 0.5, \"colorscheme\": \"Jmol\"}});\n",
       "\tviewer_1696071673271152.zoomTo();\n",
       "viewer_1696071673271152.render();\n",
       "});\n",
       "</script>"
      ]
     },
     "metadata": {},
     "output_type": "display_data"
    }
   ],
   "source": [
    "xyz = open(\"inputs/thc.xyz\").read()\n",
    "\n",
    "view = py3Dmol.view(width=800, height=400)\n",
    "view.addModelsAsFrames(xyz)\n",
    "view.setStyle(\n",
    "    {'stick': {'colorscheme': 'Jmol'},\n",
    "     'sphere': {'radius':0.5, 'colorscheme':'Jmol'}}\n",
    "    )\n",
    "view.zoomTo()\n",
    "view.show()"
   ]
  }
 ],
 "metadata": {
  "kernelspec": {
   "display_name": "Python 3.9.7 ('opt39')",
   "language": "python",
   "name": "python3"
  },
  "language_info": {
   "codemirror_mode": {
    "name": "ipython",
    "version": 3
   },
   "file_extension": ".py",
   "mimetype": "text/x-python",
   "name": "python",
   "nbconvert_exporter": "python",
   "pygments_lexer": "ipython3",
   "version": "3.9.18"
  },
  "vscode": {
   "interpreter": {
    "hash": "2c8a710a069a2ad34256b5ad79fc70bd7445328e97c19d659d7061484033c87b"
   }
  }
 },
 "nbformat": 4,
 "nbformat_minor": 4
}
