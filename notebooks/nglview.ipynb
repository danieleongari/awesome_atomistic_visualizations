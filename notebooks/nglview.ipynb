{
 "cells": [
  {
   "cell_type": "markdown",
   "metadata": {},
   "source": [
    "# NGLView\n",
    "- ASE docs: https://wiki.fysik.dtu.dk/ase/ase/visualize/visualize.html\n",
    "\n",
    "```sh\n",
    "pip install ase nglview\n",
    "```"
   ]
  },
  {
   "cell_type": "code",
   "execution_count": 1,
   "metadata": {},
   "outputs": [],
   "source": [
    "from ase.io import read\n",
    "from ase.visualize import view"
   ]
  },
  {
   "cell_type": "code",
   "execution_count": 2,
   "metadata": {},
   "outputs": [
    {
     "data": {
      "text/plain": [
       "Atoms(symbols='C108H48B12O24', pbc=True, cell=[[29.701, 0.0, 0.0], [-14.850499999999993, 25.721820517801614, 0.0], [0.0, 0.0, 6.9204]], spacegroup_kinds=...)"
      ]
     },
     "execution_count": 2,
     "metadata": {},
     "output_type": "execute_result"
    }
   ],
   "source": [
    "atoms = read('inputs/cof5.cif')\n",
    "atoms"
   ]
  },
  {
   "cell_type": "code",
   "execution_count": 3,
   "metadata": {},
   "outputs": [
    {
     "data": {
      "application/vnd.jupyter.widget-view+json": {
       "model_id": "1bb21fa11b7d49ecae0671174bbe09a2",
       "version_major": 2,
       "version_minor": 0
      },
      "text/plain": []
     },
     "metadata": {},
     "output_type": "display_data"
    },
    {
     "data": {
      "application/vnd.jupyter.widget-view+json": {
       "model_id": "24e71a096488499db181a8938e81704b",
       "version_major": 2,
       "version_minor": 0
      },
      "text/plain": [
       "HBox(children=(NGLWidget(), VBox(children=(Dropdown(description='Show', options=('All', 'B', 'O', 'C', 'H'), v…"
      ]
     },
     "metadata": {},
     "output_type": "display_data"
    }
   ],
   "source": [
    "view(atoms, viewer='ngl')"
   ]
  },
  {
   "cell_type": "markdown",
   "metadata": {},
   "source": [
    "# NglMoleculeViewer (using Dash)\n",
    "- Dash/NGLView Docs: https://dash.plotly.com/dash-bio/nglmoleculeviewer\n",
    "- Example app code: https://github.com/plotly/dash-bio/tree/master/tests/dashbio_demos/dash-ngl-moleculeviewer\n",
    "- Example app in action: https://dash.gallery/dash-ngl-molecule-viewer/   \n",
    "```sh\n",
    "pip install dash dash-bio # nglview not needed\n",
    "```"
   ]
  },
  {
   "cell_type": "code",
   "execution_count": 12,
   "metadata": {},
   "outputs": [
    {
     "data": {
      "text/html": [
       "\n",
       "        <iframe\n",
       "            width=\"100%\"\n",
       "            height=\"650\"\n",
       "            src=\"http://127.0.0.1:8050/\"\n",
       "            frameborder=\"0\"\n",
       "            allowfullscreen\n",
       "            \n",
       "        ></iframe>\n",
       "        "
      ],
      "text/plain": [
       "<IPython.lib.display.IFrame at 0x7f4188d3aeb0>"
      ]
     },
     "metadata": {},
     "output_type": "display_data"
    }
   ],
   "source": [
    "from dash import Dash, html\n",
    "import dash_bio as dashbio\n",
    "\n",
    "app = Dash(__name__)\n",
    "\n",
    "filename = \"inputs/cof5.cif\"\n",
    "content = open(filename, \"r\", encoding=\"utf-8\").read()\n",
    "\n",
    "app.layout = html.Div([\n",
    "    html.H1(\"NGL Molecule Viewer\"),\n",
    "    dashbio.NglMoleculeViewer(\n",
    "        id=\"ngl-molecule\",\n",
    "        data=[{\n",
    "            'filename': \"CIF5\",\n",
    "            'ext': \"cif\",\n",
    "            'selectedValue': content,\n",
    "            'chain': \"ALL\",\n",
    "            'aaRange': \"ALL\",\n",
    "            'chosen': {\n",
    "                'atoms': '',\n",
    "                'residues': ''\n",
    "                },\n",
    "            'color': '#ffff33',\n",
    "            'config': {'type': 'text/plain', 'input': content},\n",
    "            'resetView': False,\n",
    "            'uploaded': True\n",
    "        }],\n",
    "        molStyles = { # test different styles in https://dash.gallery/dash-ngl-molecule-viewer/\n",
    "            \"representations\": [\"unitcell\", \"ball+stick\"],\n",
    "            \"chosenAtomsColor\": \"green\",\n",
    "            \"chosenAtomsRadius\": 1,\n",
    "            \"molSpacingXaxis\": 100,\n",
    "        },\n",
    "        height=500\n",
    "        )\n",
    "])\n",
    "\n",
    "if __name__ == '__main__':\n",
    "    app.run(debug=False, jupyter_mode=None, port=8050)"
   ]
  }
 ],
 "metadata": {
  "kernelspec": {
   "display_name": "Python 3.9.7 ('opt39')",
   "language": "python",
   "name": "python3"
  },
  "language_info": {
   "codemirror_mode": {
    "name": "ipython",
    "version": 3
   },
   "file_extension": ".py",
   "mimetype": "text/x-python",
   "name": "python",
   "nbconvert_exporter": "python",
   "pygments_lexer": "ipython3",
   "version": "3.9.18"
  },
  "vscode": {
   "interpreter": {
    "hash": "2c8a710a069a2ad34256b5ad79fc70bd7445328e97c19d659d7061484033c87b"
   }
  }
 },
 "nbformat": 4,
 "nbformat_minor": 4
}
