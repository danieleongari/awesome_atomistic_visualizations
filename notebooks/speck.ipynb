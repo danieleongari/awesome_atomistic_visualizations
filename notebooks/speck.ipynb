{
 "cells": [
  {
   "cell_type": "markdown",
   "metadata": {},
   "source": [
    "# Speck\n",
    "- IPYSpeck: https://github.com/denphi/speck/tree/master/widget/ipyspeck\n",
    "- Speck in action: https://wwwtyro.github.io/speck/\n",
    "- Dash docs: https://dash.plotly.com/dash-bio/speck\n",
    "- Dash Speck in action https://dash.gallery/dash-speck/\n",
    "\n",
    "```sh\n",
    "pip install ipyspeck\n",
    "```"
   ]
  },
  {
   "cell_type": "code",
   "execution_count": 5,
   "metadata": {},
   "outputs": [
    {
     "data": {
      "application/vnd.jupyter.widget-view+json": {
       "model_id": "e0ffbd2e1360440d977ca631ff2ac367",
       "version_major": 2,
       "version_minor": 0
      },
      "text/plain": [
       "Box(children=(Speck(data='53\\nCELL: 30 30 30 90 90 90\\n C   21.546299   14.964001   14.882401\\n C   20.065500 …"
      ]
     },
     "metadata": {},
     "output_type": "display_data"
    }
   ],
   "source": [
    "import ipyspeck\n",
    "import ipywidgets as w\n",
    "\n",
    "xyz = open(\"inputs/thc.xyz\").read()\n",
    "\n",
    "view = ipyspeck.speck.Speck(\n",
    "    data=xyz,\n",
    "    \n",
    "    )\n",
    "\n",
    "c = w.Box(\n",
    "    children=[view],\n",
    "    layout=w.Layout(width='800px', height='600px')\n",
    ")\n",
    "display(c)"
   ]
  },
  {
   "cell_type": "code",
   "execution_count": null,
   "metadata": {},
   "outputs": [],
   "source": []
  }
 ],
 "metadata": {
  "kernelspec": {
   "display_name": "Python 3.9.7 ('opt39')",
   "language": "python",
   "name": "python3"
  },
  "language_info": {
   "codemirror_mode": {
    "name": "ipython",
    "version": 3
   },
   "file_extension": ".py",
   "mimetype": "text/x-python",
   "name": "python",
   "nbconvert_exporter": "python",
   "pygments_lexer": "ipython3",
   "version": "3.9.18"
  },
  "vscode": {
   "interpreter": {
    "hash": "2c8a710a069a2ad34256b5ad79fc70bd7445328e97c19d659d7061484033c87b"
   }
  }
 },
 "nbformat": 4,
 "nbformat_minor": 4
}
