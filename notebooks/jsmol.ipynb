{
 "cells": [
  {
   "cell_type": "markdown",
   "metadata": {},
   "source": [
    "# JSMol - UNABLE TO VISUALIZE in VSCode Notebook\n",
    "- Direct use from XYZ file: https://github.com/fekad/jupyter-jsmol/issues/6\n",
    "- Use with pymatgen: https://github.com/fekad/jupyter-jsmol/blob/master/jupyter_jsmol/pymatgen.py\n",
    "\n",
    "```sh\n",
    "pip install pymatgen jupyter-jsmol\n",
    "```\n",
    "\n"
   ]
  },
  {
   "cell_type": "code",
   "execution_count": 1,
   "metadata": {},
   "outputs": [],
   "source": [
    "from pymatgen.core import Structure\n",
    "from pymatgen.symmetry.analyzer import SpacegroupAnalyzer\n",
    "from pymatgen.io.cif import CifWriter\n",
    "\n",
    "from jupyter_jsmol import JsmolView"
   ]
  },
  {
   "cell_type": "code",
   "execution_count": 2,
   "metadata": {},
   "outputs": [
    {
     "data": {
      "application/vnd.jupyter.widget-view+json": {
       "model_id": "5f8fb01021b14b2d8227afb1627a7ccd",
       "version_major": 2,
       "version_minor": 0
      },
      "text/plain": [
       "JsmolView(layout=Layout(align_self='stretch', height='400px'))"
      ]
     },
     "metadata": {},
     "output_type": "display_data"
    }
   ],
   "source": [
    "view1 = JsmolView.from_file(\"inputs/toluene.xyz\", inline=False)\n",
    "display(view1)\n",
    "view1.property('modelinfo')\n",
    "view1.response"
   ]
  },
  {
   "cell_type": "code",
   "execution_count": 3,
   "metadata": {},
   "outputs": [
    {
     "data": {
      "text/plain": [
       "'B12 H48 C108 O24'"
      ]
     },
     "execution_count": 3,
     "metadata": {},
     "output_type": "execute_result"
    }
   ],
   "source": [
    "structure = Structure.from_file(\"inputs/cof5.cif\")\n",
    "structure.formula"
   ]
  },
  {
   "cell_type": "code",
   "execution_count": 4,
   "metadata": {},
   "outputs": [],
   "source": [
    "def quick_view(\n",
    "    structure: Structure,\n",
    "    *args,\n",
    "    conventional: bool = False,\n",
    "    supercell: list = [1, 1, 1],\n",
    "    symprec: float = 0.01,\n",
    "    angle_tolerance: float = 5.0\n",
    ") -> JsmolView:\n",
    "    \"\"\"A function to visualize pymatgen Structure objects in jupyter notebook using jupyter_jsmol package.\n",
    "    https://github.com/fekad/jupyter-jsmol/blob/master/jupyter_jsmol/pymatgen.py\n",
    "\n",
    "    Args:\n",
    "        structure: pymatgen Structure object.\n",
    "        *args: Extra arguments for JSmol's load command. Eg. \"{2 2 2}\", \"packed\"\n",
    "        conventional: use conventional cell. Defaults to False.\n",
    "        supercell: can be used to make supercells with pymatgen.Structure.make_supercell method.\n",
    "        symprec: If not none, finds the symmetry of the structure\n",
    "            and writes the cif with symmetry information. Passes symprec\n",
    "            to the SpacegroupAnalyzer.\n",
    "        angle_tolerance: Angle tolerance for symmetry finding. Passes\n",
    "            angle_tolerance to the SpacegroupAnalyzer. Used only if symprec\n",
    "            is not None.\n",
    "\n",
    "    Returns:\n",
    "        A jupyter widget object.\n",
    "    \"\"\"\n",
    "\n",
    "    s = structure.copy()\n",
    "    if conventional:\n",
    "        spga = SpacegroupAnalyzer(s, symprec=symprec, angle_tolerance=angle_tolerance)\n",
    "        s = spga.get_conventional_standard_structure()\n",
    "\n",
    "    cif = CifWriter(\n",
    "        s, symprec=symprec, angle_tolerance=angle_tolerance, refine_struct=False\n",
    "    )\n",
    "\n",
    "    supercell_str = \"{\" + \" \".join(map(str, supercell)) + \"}\"\n",
    "\n",
    "    return JsmolView.from_str(str(cif), supercell_str, *args)"
   ]
  },
  {
   "cell_type": "code",
   "execution_count": 5,
   "metadata": {},
   "outputs": [
    {
     "data": {
      "application/vnd.jupyter.widget-view+json": {
       "model_id": "47cb79a4221d4eef910415a7b5fcdbcf",
       "version_major": 2,
       "version_minor": 0
      },
      "text/plain": [
       "JsmolView(layout=Layout(align_self='stretch', height='400px'))"
      ]
     },
     "metadata": {},
     "output_type": "display_data"
    }
   ],
   "source": [
    "quick_view(structure)"
   ]
  }
 ],
 "metadata": {
  "kernelspec": {
   "display_name": "Python 3.9.7 ('opt39')",
   "language": "python",
   "name": "python3"
  },
  "language_info": {
   "codemirror_mode": {
    "name": "ipython",
    "version": 3
   },
   "file_extension": ".py",
   "mimetype": "text/x-python",
   "name": "python",
   "nbconvert_exporter": "python",
   "pygments_lexer": "ipython3",
   "version": "3.9.18"
  },
  "vscode": {
   "interpreter": {
    "hash": "2c8a710a069a2ad34256b5ad79fc70bd7445328e97c19d659d7061484033c87b"
   }
  }
 },
 "nbformat": 4,
 "nbformat_minor": 4
}
